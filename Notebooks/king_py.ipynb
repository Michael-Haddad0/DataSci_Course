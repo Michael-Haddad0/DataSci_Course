{
 "cells": [
  {
   "cell_type": "markdown",
   "metadata": {},
   "source": [
    "## House sales in King County\n",
    "\n",
    "### Introduction\n",
    "\n",
    "This example illustrates **linear regression** in Python, using the package **scikit-learn** (there are other ways). I develop a model for house sale prices in King County (Washington), which includes Seattle. It is the most populous county in Washington (population 1,931,249 in the 2010 census), and the 13th-most populous in the United States. \n",
    "\n",
    "The data set include 21,613 homes sold between May 2014 and May 2015. It contains 15 house features plus the price and the id columns:\n",
    "\n",
    "* `id`, an identifier.\n",
    "\n",
    "* `date`, the date when the sale took place.\n",
    "\n",
    "* `price`, the sale price.\n",
    "\n",
    "* `bedrooms`, the number of bedrooms.\n",
    "\n",
    "* `bathrooms`, the number of bathrooms\n",
    "\n",
    "* `sqft_living`, the square footage of the home.\n",
    "\n",
    "* `sqft_above`, the square footage of the home, discounting the basement.\n",
    "\n",
    "* `sqft_basement`, the square footage of the basement.\n",
    "\n",
    "* `sqft_lot`, the square footage of the lot.\n",
    "\n",
    "* `floors`, the total floors (levels) in house.\n",
    "\n",
    "* `waterfront`, a dummy for having a view to the waterfront.\n",
    "\n",
    "* `condition`, a 1-5 rating.\n",
    "\n",
    "* `yr_built`, the year when the house was built.\n",
    "\n",
    "* `yr_renovated`, the year when the house was renovated.\n",
    "\n",
    "* `zipcode`, the ZIP code of the house.\n",
    "\n",
    "* `lat`, the latitude of the house.\n",
    "\n",
    "* `long`, the longitude of the house.\n",
    "\n",
    "### Importing the data\n",
    "\n",
    "I import the data from a csv file, checking the dimensions.\n"
   ]
  },
  {
   "cell_type": "code",
   "execution_count": 1,
   "metadata": {},
   "outputs": [
    {
     "data": {
      "text/plain": [
       "(21613, 17)"
      ]
     },
     "execution_count": 1,
     "metadata": {},
     "output_type": "execute_result"
    }
   ],
   "source": [
    "import pandas as pd\n",
    "king = pd.read_csv('https://raw.githubusercontent.com/mcanela-iese/' +\n",
    "    'DataSci_Course/master/Data/king.csv')\n",
    "king.shape"
   ]
  },
  {
   "cell_type": "markdown",
   "metadata": {},
   "source": [
    "Actually, `king` is a data frame, with 21,613 rows and 17 columns. The first column has many **duplicates**, which are not duplicates for the data frame. This means that the same house may have been sold more than once during the period covered by the data."
   ]
  },
  {
   "cell_type": "code",
   "execution_count": 2,
   "metadata": {},
   "outputs": [
    {
     "data": {
      "text/plain": [
       "177"
      ]
     },
     "execution_count": 2,
     "metadata": {},
     "output_type": "execute_result"
    }
   ],
   "source": [
    "king['id'].duplicated().sum()"
   ]
  },
  {
   "cell_type": "code",
   "execution_count": 3,
   "metadata": {},
   "outputs": [
    {
     "data": {
      "text/plain": [
       "0"
      ]
     },
     "execution_count": 3,
     "metadata": {},
     "output_type": "execute_result"
    }
   ],
   "source": [
    "king.duplicated().sum()"
   ]
  },
  {
   "cell_type": "markdown",
   "metadata": {},
   "source": [
    "With the method `info`, we take a look at the columns of this data frame."
   ]
  },
  {
   "cell_type": "code",
   "execution_count": 4,
   "metadata": {},
   "outputs": [
    {
     "name": "stdout",
     "output_type": "stream",
     "text": [
      "<class 'pandas.core.frame.DataFrame'>\n",
      "RangeIndex: 21613 entries, 0 to 21612\n",
      "Data columns (total 17 columns):\n",
      "id               21613 non-null int64\n",
      "date             21613 non-null object\n",
      "zipcode          21613 non-null int64\n",
      "lat              21613 non-null float64\n",
      "long             21613 non-null float64\n",
      "bedrooms         21613 non-null int64\n",
      "bathrooms        21613 non-null float64\n",
      "sqft_living      21613 non-null int64\n",
      "sqft_above       21613 non-null int64\n",
      "sqft_basement    21613 non-null int64\n",
      "sqft_lot         21613 non-null int64\n",
      "floors           21613 non-null float64\n",
      "waterfront       21613 non-null int64\n",
      "condition        21613 non-null int64\n",
      "yr_built         21613 non-null int64\n",
      "yr_renovated     21613 non-null int64\n",
      "price            21613 non-null float64\n",
      "dtypes: float64(5), int64(11), object(1)\n",
      "memory usage: 2.8+ MB\n"
     ]
    }
   ],
   "source": [
    "king.info()"
   ]
  },
  {
   "cell_type": "markdown",
   "metadata": {},
   "source": [
    "Note the format of `date`. '20140502T000000' must be read as '2014-05-02 00:00:00'. This is the **datetime format**. The 'T' indicates the beginning of the time part. Since '20140502T000000' contains a non-numeric character, it is imported as a string.\n",
    "\n",
    "A summary of the data helps. I use the method `describe`, omitting `id`, `zipcode` and `date`, which would not make sense. Note that, for a dummy like `waterfront`, the mean is just the proportion of 1's. So, 0.75% of the houses have a view to the waterfront. The rest is easy.\n"
   ]
  },
  {
   "cell_type": "code",
   "execution_count": 5,
   "metadata": {},
   "outputs": [
    {
     "name": "stdout",
     "output_type": "stream",
     "text": [
      "           lat     long  bedrooms  bathrooms  sqft_living  sqft_above  \\\n",
      "count  21613.0  21613.0   21613.0    21613.0      21613.0     21613.0   \n",
      "mean      47.6   -122.2       3.4        2.1       2079.9      1788.4   \n",
      "std        0.1      0.1       0.9        0.8        918.4       828.1   \n",
      "min       47.2   -122.5       0.0        0.0        290.0       290.0   \n",
      "25%       47.5   -122.3       3.0        1.8       1427.0      1190.0   \n",
      "50%       47.6   -122.2       3.0        2.2       1910.0      1560.0   \n",
      "75%       47.7   -122.1       4.0        2.5       2550.0      2210.0   \n",
      "max       47.8   -121.3      33.0        8.0      13540.0      9410.0   \n",
      "\n",
      "       sqft_basement   sqft_lot   floors  waterfront  condition  yr_built  \\\n",
      "count        21613.0    21613.0  21613.0     21613.0    21613.0   21613.0   \n",
      "mean           291.5    15107.0      1.5         0.0        3.4    1971.0   \n",
      "std            442.6    41420.5      0.5         0.1        0.7      29.4   \n",
      "min              0.0      520.0      1.0         0.0        1.0    1900.0   \n",
      "25%              0.0     5040.0      1.0         0.0        3.0    1951.0   \n",
      "50%              0.0     7618.0      1.5         0.0        3.0    1975.0   \n",
      "75%            560.0    10688.0      2.0         0.0        4.0    1997.0   \n",
      "max           4820.0  1651359.0      3.5         1.0        5.0    2015.0   \n",
      "\n",
      "       yr_renovated      price  \n",
      "count       21613.0    21613.0  \n",
      "mean           84.4   540088.1  \n",
      "std           401.7   367127.2  \n",
      "min             0.0    75000.0  \n",
      "25%             0.0   321950.0  \n",
      "50%             0.0   450000.0  \n",
      "75%             0.0   645000.0  \n",
      "max          2015.0  7700000.0  \n"
     ]
    }
   ],
   "source": [
    "print(king.iloc[:, 3:18].describe().round(1))"
   ]
  },
  {
   "cell_type": "markdown",
   "metadata": {},
   "source": [
    "### Linear regression model\n",
    "\n",
    "scikit.learn contains a collection of **machine learning** methods, both supervised and unsupervised. There are alternative ways to develop linear regression models with Python, but I use the scikit-learn approach for consistency with other notebooks. \n",
    "\n",
    "To apply a supervised learning method in scikit-learn, we have to specify the **dependent variable** `y` and the matrix of **independent variables** `X`, whose columns have to be numeric (`y` can contain string data in classification methods). "
   ]
  },
  {
   "cell_type": "code",
   "execution_count": 6,
   "metadata": {
    "collapsed": true
   },
   "outputs": [],
   "source": [
    "y = king['price']\n",
    "X = king[['bedrooms', 'bathrooms', 'sqft_living', 'sqft_lot', 'floors',\n",
    "  'waterfront', 'condition', 'sqft_above', 'yr_built', 'yr_renovated',\n",
    "  'lat', 'long']]"
   ]
  },
  {
   "cell_type": "markdown",
   "metadata": {},
   "source": [
    "scikit-learn (`sklearn` in the code) contains the module `linear_model`, with various regression methods. I load only the method `LinearRegression`, which I name `LR`, to make it shorter."
   ]
  },
  {
   "cell_type": "code",
   "execution_count": 7,
   "metadata": {
    "collapsed": true
   },
   "outputs": [],
   "source": [
    "from sklearn.linear_model import LinearRegression\n",
    "LR = LinearRegression()"
   ]
  },
  {
   "cell_type": "markdown",
   "metadata": {},
   "source": [
    "For `LR`, the method `fit` fits a linear equation to the data. The method `score` quantifies the quality of the predictions, which in `LR` is done with an **R-squared statistic**."
   ]
  },
  {
   "cell_type": "code",
   "execution_count": 8,
   "metadata": {},
   "outputs": [
    {
     "data": {
      "text/plain": [
       "0.646"
      ]
     },
     "execution_count": 8,
     "metadata": {},
     "output_type": "execute_result"
    }
   ],
   "source": [
    "LR.fit(X, y)\n",
    "LR.score(X, y).round(3)"
   ]
  },
  {
   "cell_type": "markdown",
   "metadata": {},
   "source": [
    "The **predicted values** are obtained in `scikit-learn` with the method `predict`. I calculate the prediction errors, or **residuals**, directly."
   ]
  },
  {
   "cell_type": "code",
   "execution_count": 9,
   "metadata": {
    "collapsed": true
   },
   "outputs": [],
   "source": [
    "pred_price = LR.predict(X)\n",
    "pred_error = king['price'] - pred_price"
   ]
  },
  {
   "cell_type": "markdown",
   "metadata": {},
   "source": [
    "### Graphics\n",
    "\n",
    "Although the price has a (very) **skewed distribution**, that of the prediction error is reasonably symmetric, as shown in the exhibit below. I use `matplotlib.pyplot` methods for plotting, as usual. The line `%matplotlib inline` is used to get graphics in Jupyter notebooks."
   ]
  },
  {
   "cell_type": "code",
   "execution_count": 10,
   "metadata": {},
   "outputs": [
    {
     "data": {
      "text/plain": [
       "<matplotlib.text.Text at 0x120685a90>"
      ]
     },
     "execution_count": 10,
     "metadata": {},
     "output_type": "execute_result"
    },
    {
     "data": {
      "image/png": "[encoded data removed]",
      "text/plain": [
       "<matplotlib.figure.Figure at 0x1205a3eb8>"
      ]
     },
     "metadata": {},
     "output_type": "display_data"
    }
   ],
   "source": [
    "%matplotlib inline\n",
    "import matplotlib.pyplot as plt\n",
    "plt.figure(figsize=(6,6))\n",
    "plt.hist(king['price']/1000, color='0.7')\n",
    "plt.title('Figure 1. Actual price')\n",
    "plt.xlabel('Actual price (thousands)')\n",
    "plt.ylabel('Frequency')"
   ]
  },
  {
   "cell_type": "code",
   "execution_count": 11,
   "metadata": {},
   "outputs": [
    {
     "data": {
      "text/plain": [
       "<matplotlib.text.Text at 0x1212bd5c0>"
      ]
     },
     "execution_count": 11,
     "metadata": {},
     "output_type": "execute_result"
    },
    {
     "data": {
      "image/png": "[encoded data removed]",
      "text/plain": [
       "<matplotlib.figure.Figure at 0x120585a20>"
      ]
     },
     "metadata": {},
     "output_type": "display_data"
    }
   ],
   "source": [
    "plt.figure(figsize=(6,6))\n",
    "plt.hist(pred_error/1000, color='0.7')\n",
    "plt.title('Figure 2. Prediction error')\n",
    "plt.xlabel('Prediction error (thousands)')\n",
    "plt.ylabel('Frequency')"
   ]
  },
  {
   "cell_type": "markdown",
   "metadata": {},
   "source": [
    "Scatter plots with the predicted values in the horizontal axis and either the actual values or the prediction errors in the vertical axis are useful to detect problems in the models fitted. I leave the discussion of this plot for the homework."
   ]
  },
  {
   "cell_type": "code",
   "execution_count": 12,
   "metadata": {},
   "outputs": [
    {
     "data": {
      "text/plain": [
       "<matplotlib.text.Text at 0x12146e2e8>"
      ]
     },
     "execution_count": 12,
     "metadata": {},
     "output_type": "execute_result"
    },
    {
     "data": {
      "image/png": "[encoded data removed]",
      "text/plain": [
       "<matplotlib.figure.Figure at 0x1213d0c88>"
      ]
     },
     "metadata": {},
     "output_type": "display_data"
    }
   ],
   "source": [
    "plt.figure(figsize=(6,6))\n",
    "plt.scatter(pred_price/1000, king['price']/1000, color='0.3', s=1)\n",
    "plt.title('Figure 3. Actual vs predicted price')\n",
    "plt.xlabel('Predicted price (thousands)')\n",
    "plt.ylabel('Actual price (thousands)')"
   ]
  }
 ],
 "metadata": {
  "kernelspec": {
   "display_name": "Python 3",
   "language": "python",
   "name": "python3"
  },
  "language_info": {
   "codemirror_mode": {
    "name": "ipython",
    "version": 3
   },
   "file_extension": ".py",
   "mimetype": "text/x-python",
   "name": "python",
   "nbconvert_exporter": "python",
   "pygments_lexer": "ipython3",
   "version": "3.6.5"
  }
 },
 "nbformat": 4,
 "nbformat_minor": 2
}
